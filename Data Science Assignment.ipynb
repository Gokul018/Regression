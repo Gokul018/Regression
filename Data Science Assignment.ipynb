{
 "cells": [
  {
   "cell_type": "markdown",
   "metadata": {},
   "source": [
    "# Import data"
   ]
  },
  {
   "cell_type": "markdown",
   "metadata": {},
   "source": [
    "<p>\n",
    "You can find the \"Automobile Data Set\" from the following link: <a href=\"https://archive.ics.uci.edu/ml/machine-learning-databases/autos/imports-85.data\">https://archive.ics.uci.edu/ml/machine-learning-databases/autos/imports-85.data</a>. \n",
    "</p> \n",
    "<p> The aim is to predict the used cars prices with the given set of features.</p>"
   ]
  },
  {
   "cell_type": "code",
   "execution_count": null,
   "metadata": {},
   "outputs": [],
   "source": [
    "headers = [\"symboling\",\"normalized-losses\",\"make\",\"fuel-type\",\"aspiration\", \"num-of-doors\",\"body-style\",\n",
    "         \"drive-wheels\",\"engine-location\",\"wheel-base\", \"length\",\"width\",\"height\",\"curb-weight\",\"engine-type\",\n",
    "         \"num-of-cylinders\", \"engine-size\",\"fuel-system\",\"bore\",\"stroke\",\"compression-ratio\",\"horsepower\",\n",
    "         \"peak-rpm\",\"city-mpg\",\"highway-mpg\",\"price\"]"
   ]
  },
  {
   "cell_type": "markdown",
   "metadata": {},
   "source": [
    "# Data Wrangling\n",
    "Perform Data Wrangling to convert the data from initial format to a format that may be better for data analysis"
   ]
  },
  {
   "cell_type": "markdown",
   "metadata": {},
   "source": [
    "## Handling Missing Values\n",
    "\n",
    "Convert \"?\" to NaN\n",
    "Count missing values in each column\n",
    "\n",
    "<b>Replace by mean:</b>\n",
    "<ul>\n",
    "    <li>\"normalized-losses\"</li>\n",
    "    <li>\"stroke</li>\n",
    "    <li>\"bore\"</li>\n",
    "    <li>\"horsepower\"</li>\n",
    "    <li>\"peak-rpm\"</li>\n",
    "</ul>\n",
    "\n",
    "<b>Replace by frequency:</b>\n",
    "<ul>\n",
    "    <li>\"num-of-doors\": replace with the most occuring num-of-doors. \n",
    "    </li>\n",
    "</ul>\n",
    "\n",
    "<b>Drop the whole row:</b>\n",
    "<ul>\n",
    "    <li>\"price\"\n",
    "    </li>\n",
    "</ul>"
   ]
  },
  {
   "cell_type": "markdown",
   "metadata": {},
   "source": [
    "## Correct Data Format\n",
    "\n",
    "- \"bore\", \"stroke\", price, peak-rpm - float\n",
    "- normalized-losses, horsepower - int"
   ]
  },
  {
   "cell_type": "markdown",
   "metadata": {},
   "source": [
    "## Data Standardization\n",
    "\n",
    "- city-mpg, highway-mpg - Convert mpg to L/100km by mathematical operation (235 divided by mpg) \n",
    "- name the new columns : city-L/100km, highway-L/100km"
   ]
  },
  {
   "cell_type": "markdown",
   "metadata": {},
   "source": [
    "## Data Normalization \n",
    "\n",
    "\"length\", \"width\" and \"height\" - normalize using min-max normalization"
   ]
  },
  {
   "cell_type": "markdown",
   "metadata": {},
   "source": [
    "## Binning \n",
    "\n",
    "- Segment the `horsepower` numerical column into 3 equal sized bins and name the groups 'Low', 'Medium' and 'High' and name the column `horsepower-binned`\n",
    "- Plot the histogram of `horsepower`\n",
    "- Plot a bar plot for `horsepower-binned`"
   ]
  },
  {
   "cell_type": "markdown",
   "metadata": {},
   "source": [
    "## Dummy Variable\n",
    "\n",
    "- Convert `fuel-type` categorical variable into dummy variable and name the resulting columns, `gas` and `diesel` and drop the `fuel-type` column\n",
    "- Convert `aspiration` categorical variable into dummy variable and name the resulting columns, `std` and `turbo` and drop the `aspiration` column"
   ]
  },
  {
   "cell_type": "markdown",
   "metadata": {},
   "source": [
    "# Exploratory Data Analysis\n",
    "\n",
    "<p> Perform EDA to find the list of important variables in predicting the prices"
   ]
  },
  {
   "cell_type": "markdown",
   "metadata": {},
   "source": [
    "## Regression plots\n",
    "\n",
    "- Visualize the relationship between the following numerical variables and `price` using **regression plots** and also compute the correlation coefficient for the same and provide your observations on the results\n",
    "    - `engine-size`\n",
    "    - `highway-mpg`\n",
    "    - `peak-rpm`\n",
    "    - `stroke`"
   ]
  },
  {
   "cell_type": "markdown",
   "metadata": {},
   "source": [
    "## Box plots\n",
    "- Visualize the relationship between the following categorical variables and `price` using **box plots** and provide your observations on the results\n",
    "    - `body-style`\n",
    "    - `engine-location`\n",
    "    - `drive-wheels`"
   ]
  },
  {
   "cell_type": "markdown",
   "metadata": {},
   "source": [
    "## Value counts\n",
    "Get the value counts for `drive-wheels` and `engine-location`"
   ]
  },
  {
   "cell_type": "markdown",
   "metadata": {},
   "source": [
    "## Heat map\n",
    "Use the `groupby` function to find the average `price` of each group, grouped based on  `drive-wheels` and `body-style` ? Convert it to a pivot table. Use a heat map to visualize the relationship between Body Style vs Price"
   ]
  },
  {
   "cell_type": "markdown",
   "metadata": {},
   "source": [
    "## Pearson Correlation Coefficient and P-value\n",
    "- Calculate the  Pearson Correlation Coefficient and P-value of the following features and `price` and interpret the values\n",
    "    - `wheel-base`\n",
    "    - `horsepower`\n",
    "    - `length`\n",
    "    - `width`\n",
    "    - `curb-weight`\n",
    "    - `engine-size`\n",
    "    - `bore`\n",
    "    - `city-mpg`\n",
    "    - `highway-mpg`"
   ]
  },
  {
   "cell_type": "markdown",
   "metadata": {},
   "source": [
    "## ANOVA test\n",
    "Analyze if different types of `drive-wheels` impact the `price` using ANOVA test."
   ]
  },
  {
   "cell_type": "markdown",
   "metadata": {},
   "source": [
    "## Important Variables\n",
    "Make a list of 10 important variables to feed the model based on the above exploratory data analysis done"
   ]
  },
  {
   "cell_type": "markdown",
   "metadata": {},
   "source": [
    "# Model Development\n",
    "\n",
    "Develop several models to predict the price of used cars using the arrived important features"
   ]
  },
  {
   "cell_type": "markdown",
   "metadata": {},
   "source": [
    "## Simple Linear Regression\n",
    "\n",
    "Use simple linear regression to predict the `price` base on the feature `highway-mpg`. Find out the intercept and slope, and plug them in to the linear function.\n",
    "\n",
    "### Model Evaluation using Visualization\n",
    "\n",
    "Make Regression and Residual plots for `highway-mpg` and `price` and interpret the plots\n",
    "\n",
    "### Measures for In-Sample Evaluation\n",
    "- Calculate the R^2\n",
    "- Compute the Mean Squared Error"
   ]
  },
  {
   "cell_type": "markdown",
   "metadata": {},
   "source": [
    "## Multiple Linear Regression\n",
    "\n",
    "Use any 4 important variables as the predictor variables to predict the `price`. Find out the intercept and the coefficients, and plug them in to the linear function.\n",
    "\n",
    "### Model Evaluation using Visualization\n",
    "\n",
    "Compare the distribution of the fitted values that result from the model and the actual values by plotting both the distributions on the same plot and interpret the plot.\n",
    "\n",
    "### Measures for In-Sample Evaluation\n",
    "- Calculate the R^2\n",
    "- Compute the Mean Squared Error"
   ]
  },
  {
   "cell_type": "markdown",
   "metadata": {},
   "source": [
    "## Polynomial Regression\n",
    "Create a 3rd order polynomial model for `highway-mpg` and `price` using np.polyfit and np.poly1d and plot the polynomial function using the `plot` method.\n",
    "\n",
    "### Measures for In-Sample Evaluation\n",
    "- Compute the R^2\n",
    "- Compute the Mean Squared Error"
   ]
  },
  {
   "cell_type": "markdown",
   "metadata": {},
   "source": [
    "## Decision Making\n",
    "Determine which model is best among the 3 based on R^2 and MSE values"
   ]
  },
  {
   "cell_type": "markdown",
   "metadata": {},
   "source": [
    "# Model Evaluation \n",
    "Determine how accurate are the predictions "
   ]
  },
  {
   "cell_type": "markdown",
   "metadata": {},
   "source": [
    "## Training & Testing\n",
    "- Use the function \"train_test_split\" to split up the data set such that 15% of the data samples will be utilized for testing, set the parameter \"random_state\" equal to 1\n",
    "\n",
    "### Simple Linear Regression\n",
    "- Build a simple linear regression model using `horsepower` feature from the training set\n",
    "- Calculate the R^2 on the test data and interpret the results\n",
    "- Perform a 4-fold Cross-validation and arrive at the average and standard deviation of the resulting scores.\n",
    "\n",
    "### Multiple Linear Regresstion\n",
    "- Build a multiple linear regression model using the 4 important variables selected previously over the training test.\n",
    "- Predict the values using the training data and test data\n",
    "- Make a Distribution plot of Predicted prices and Actual prices of the training data.\n",
    "- Make a Distribution plot of Predicted prices and Actual prices of the test data."
   ]
  }
 ],
 "metadata": {
  "kernelspec": {
   "display_name": "Python 3",
   "language": "python",
   "name": "python3"
  },
  "language_info": {
   "codemirror_mode": {
    "name": "ipython",
    "version": 3
   },
   "file_extension": ".py",
   "mimetype": "text/x-python",
   "name": "python",
   "nbconvert_exporter": "python",
   "pygments_lexer": "ipython3",
   "version": "3.6.9"
  },
  "toc": {
   "base_numbering": 1,
   "nav_menu": {},
   "number_sections": true,
   "sideBar": true,
   "skip_h1_title": false,
   "title_cell": "Table of Contents",
   "title_sidebar": "Contents",
   "toc_cell": false,
   "toc_position": {},
   "toc_section_display": true,
   "toc_window_display": true
  }
 },
 "nbformat": 4,
 "nbformat_minor": 2
}
